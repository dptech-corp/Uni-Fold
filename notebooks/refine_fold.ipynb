{
 "cells": [
  {
   "cell_type": "code",
   "execution_count": null,
   "metadata": {},
   "outputs": [],
   "source": [
    "from unifold.refine.dataset import load_and_process\n",
    "from unifold.data.lmdb_dataset import LMDBDataset\n",
    "from unifold.data.data_ops import atom37_to_torsion_angles\n",
    "from unifold.config import model_config\n",
    "from unifold.modules import AlphaFold\n",
    "from unifold.refine.modules import RefineFold\n",
    "from unifold.inference import automatic_chunk_size\n",
    "import torch\n",
    "import numpy as np\n",
    "import json\n",
    "\n",
    "config = model_config(\"model_2\", train=False)\n",
    "config.data.common.structure_refine = True\n",
    "from typing import *\n",
    "\n",
    "def recur_print(x):\n",
    "    if isinstance(x, torch.Tensor) or isinstance(x, np.ndarray):\n",
    "        return f\"{x.shape}_{x.dtype}\"\n",
    "    elif isinstance(x, dict):\n",
    "        return {k: recur_print(v) for k, v in x.items()}\n",
    "    elif isinstance(x, Iterable):\n",
    "        return [recur_print(v) for v in x]\n",
    "    else:\n",
    "        raise RuntimeError(x)\n"
   ]
  },
  {
   "cell_type": "code",
   "execution_count": null,
   "metadata": {},
   "outputs": [],
   "source": [
    "#@markdown ## load data\n",
    "data_path = \"/mnt/data/projects/unifold/data_0916/traineval/\"\n",
    "\n",
    "feat_lmdb = LMDBDataset(data_path + \"features.lmdb\")\n",
    "lab_lmdb = LMDBDataset(data_path + \"labels.lmdb\")\n",
    "\n",
    "feat_id_map = json.load(open(data_path + \"train_label_to_seq.json\"))\n",
    "\n",
    "lid = \"101m_A\"\n",
    "sid = feat_id_map[lid]\n",
    "\n",
    "feat, lab = load_and_process(\n",
    "    config.data,\n",
    "    \"predict\",\n",
    "    batch_idx=0,\n",
    "    data_idx=0,\n",
    "    sequence_ids=[sid],\n",
    "    feature_dir=feat_lmdb,\n",
    "    msa_feature_dir=data_path + \"msa_features\",\n",
    "    template_feature_dir=data_path + \"template_features\",\n",
    "    uniprot_msa_feature_dir=data_path + \"uniprot_features\",\n",
    "    label_ids=[lid],\n",
    "    label_dir=lab_lmdb,\n",
    ")\n",
    "lab = lab[0]\n",
    "\n",
    "recur_print(feat)"
   ]
  },
  {
   "cell_type": "code",
   "execution_count": null,
   "metadata": {},
   "outputs": [],
   "source": [
    "def get_model(param_path='/mnt/data/projects/unifold/release_params/monomer.unifold.pt'):\n",
    "    config = model_config(\"model_2_ft\", train=False)\n",
    "    config.data.common.max_recycling_iters = 3\n",
    "    config.globals.max_recycling_iters = 3\n",
    "    config.data.predict.num_ensembles = 1\n",
    "    config.data.predict.subsample_templates = False\n",
    "    model = RefineFold(config)\n",
    "\n",
    "    print(\"start to load params {}\".format(param_path))\n",
    "    state_dict = torch.load(param_path)[\"ema\"][\"params\"]\n",
    "    state_dict = {\".\".join(k.split(\".\")[1:]): v for k, v in state_dict.items()}\n",
    "    model.load_state_dict(state_dict)\n",
    "    model = model.to(\"cuda:0\")\n",
    "    model.eval()\n",
    "    model.inference_mode()\n",
    "    return config, model\n",
    "config, model = get_model()"
   ]
  },
  {
   "cell_type": "code",
   "execution_count": null,
   "metadata": {},
   "outputs": [],
   "source": [
    "from unifold.dataset import UnifoldDataset\n",
    "batch = UnifoldDataset.collater([feat])\n",
    "chunk_size, block_size = automatic_chunk_size(256, \"cuda:0\", False)\n",
    "model.globals.chunk_size = chunk_size\n",
    "model.globals.block_size = block_size"
   ]
  },
  {
   "cell_type": "code",
   "execution_count": null,
   "metadata": {},
   "outputs": [],
   "source": [
    "with torch.no_grad():\n",
    "    batch = {\n",
    "        k: torch.as_tensor(v, device=\"cuda:0\")\n",
    "        for k, v in batch.items()\n",
    "    }\n",
    "    raw_out = model(batch)\n",
    "recur_print(batch)"
   ]
  },
  {
   "cell_type": "code",
   "execution_count": null,
   "metadata": {},
   "outputs": [],
   "source": [
    "recur_print(raw_out)"
   ]
  },
  {
   "cell_type": "code",
   "execution_count": null,
   "metadata": {},
   "outputs": [],
   "source": [
    "bb_frames = raw_out['sm']['frames']\n",
    "sc_frames = raw_out['sm']['sidechain_frames']"
   ]
  },
  {
   "cell_type": "code",
   "execution_count": null,
   "metadata": {},
   "outputs": [],
   "source": [
    "bb_frames[-1, ...] == sc_frames[:, :, 0, :, :]"
   ]
  },
  {
   "cell_type": "code",
   "execution_count": null,
   "metadata": {},
   "outputs": [],
   "source": [
    "torsions = lab[\"torsion_angles_sin_cos\"]    # [omg,phi,psi,x1-4] * [sin,cos]\n",
    "masks = torch.prod(lab[\"torsion_angles_mask\"][..., 1:3], axis=-1)\n",
    "\n",
    "def sin_cos_to_angle(sin_cos):\n",
    "    cos_ = sin_cos[..., 1]\n",
    "    sin_ = sin_cos[..., 0]\n",
    "    return torch.acos(cos_) * torch.sign(sin_)\n",
    "\n",
    "phi_psi = sin_cos_to_angle((torsions * masks[..., None, None])[..., 1:3, :])"
   ]
  },
  {
   "cell_type": "code",
   "execution_count": null,
   "metadata": {},
   "outputs": [],
   "source": [
    "from matplotlib import pyplot as plt\n",
    "plt.plot(phi_psi[:, 0], phi_psi[:, 1], '.')"
   ]
  }
 ],
 "metadata": {
  "kernelspec": {
   "display_name": "base",
   "language": "python",
   "name": "python3"
  },
  "language_info": {
   "codemirror_mode": {
    "name": "ipython",
    "version": 3
   },
   "file_extension": ".py",
   "mimetype": "text/x-python",
   "name": "python",
   "nbconvert_exporter": "python",
   "pygments_lexer": "ipython3",
   "version": "3.8.13"
  },
  "orig_nbformat": 4,
  "vscode": {
   "interpreter": {
    "hash": "d4d1e4263499bec80672ea0156c357c1ee493ec2b1c70f0acce89fc37c4a6abe"
   }
  }
 },
 "nbformat": 4,
 "nbformat_minor": 2
}
